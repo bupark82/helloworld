{
 "cells": [
  {
   "cell_type": "code",
   "execution_count": null,
   "metadata": {
    "executionInfo": {
     "elapsed": 681,
     "status": "ok",
     "timestamp": 1605017976936,
     "user": {
      "displayName": "Byeongun Park",
      "photoUrl": "",
      "userId": "17153807017341157915"
     },
     "user_tz": -540
    },
    "id": "1AXZ2Hogbo6m"
   },
   "outputs": [],
   "source": [
    "import json"
   ]
  },
  {
   "cell_type": "code",
   "execution_count": null,
   "metadata": {
    "colab": {
     "base_uri": "https://localhost:8080/"
    },
    "executionInfo": {
     "elapsed": 724,
     "status": "ok",
     "timestamp": 1605017978588,
     "user": {
      "displayName": "Byeongun Park",
      "photoUrl": "",
      "userId": "17153807017341157915"
     },
     "user_tz": -540
    },
    "id": "l4_8zohq090i",
    "outputId": "02ba3c18-a3f1-4a61-f709-f00c28dbc70e"
   },
   "outputs": [],
   "source": [
    "#from google.colab import drive\n",
    "#drive.mount('/content/drive')"
   ]
  },
  {
   "cell_type": "code",
   "execution_count": null,
   "metadata": {
    "executionInfo": {
     "elapsed": 640,
     "status": "ok",
     "timestamp": 1605017989519,
     "user": {
      "displayName": "Byeongun Park",
      "photoUrl": "",
      "userId": "17153807017341157915"
     },
     "user_tz": -540
    },
    "id": "_53Sv67BbXkg"
   },
   "outputs": [],
   "source": [
    "#with open('/content/drive/My Drive/Colab Notebooks/student_file.json') as json_file:\n",
    "with open('student_file.json') as json_file:\n",
    "    json_data = json.load(json_file)"
   ]
  },
  {
   "cell_type": "code",
   "execution_count": null,
   "metadata": {
    "colab": {
     "base_uri": "https://localhost:8080/",
     "height": 197
    },
    "executionInfo": {
     "elapsed": 2131,
     "status": "ok",
     "timestamp": 1601948166502,
     "user": {
      "displayName": "Byeongun Park",
      "photoUrl": "",
      "userId": "17153807017341157915"
     },
     "user_tz": -540
    },
    "id": "CejGcPy8baMr",
    "outputId": "990805e0-625a-4a20-d2ad-a236a818e5f8"
   },
   "outputs": [],
   "source": [
    "json_data"
   ]
  },
  {
   "cell_type": "code",
   "execution_count": null,
   "metadata": {
    "id": "ZNZqYHrSdN8o"
   },
   "outputs": [],
   "source": [
    "student_data = {\n",
    "    \"1.FirstName\": \"JaeHwa\",\n",
    "    \"2.LastName\": \"Lee\",\n",
    "    \"3.Age\": 20, \n",
    "    \"4.Youtube_ch\": \"AIRIM\",\n",
    "    \"5.Courses\": [\n",
    "        {\n",
    "            \"Major_A\": \"ML\", \n",
    "            \"Classes\": [\"Probability\", \n",
    "                        \"Generalized Linear Model\", \n",
    "                        \"Categorical Data Analysis\"]\n",
    "        }, \n",
    "        {\n",
    "            \"Major_B\": \"Deep Learning\", \n",
    "            \"Classes\": [\"Data Structure\", \n",
    "                        \"Programming\", \n",
    "                        \"Algorithms\"]\n",
    "        }\n",
    "    ]\n",
    "} "
   ]
  },
  {
   "cell_type": "code",
   "execution_count": null,
   "metadata": {
    "id": "dIqix1M_bkt8"
   },
   "outputs": [],
   "source": [
    "st_json = json.dumps(student_data)"
   ]
  },
  {
   "cell_type": "code",
   "execution_count": null,
   "metadata": {
    "colab": {
     "base_uri": "https://localhost:8080/",
     "height": 53
    },
    "executionInfo": {
     "elapsed": 2122,
     "status": "ok",
     "timestamp": 1601948166503,
     "user": {
      "displayName": "Byeongun Park",
      "photoUrl": "",
      "userId": "17153807017341157915"
     },
     "user_tz": -540
    },
    "id": "ewSyc6AVbzBi",
    "outputId": "da404b8a-9666-41ec-a59b-c57ea5f455c6"
   },
   "outputs": [],
   "source": [
    "st_json"
   ]
  },
  {
   "cell_type": "markdown",
   "metadata": {
    "id": "1_QDQ5ABbZLa"
   },
   "source": []
  },
  {
   "cell_type": "code",
   "execution_count": null,
   "metadata": {
    "id": "2smXWjVkHFUR"
   },
   "outputs": [],
   "source": [
    "st_json2 = json.dumps(student_data, indent=4)"
   ]
  },
  {
   "cell_type": "code",
   "execution_count": null,
   "metadata": {
    "colab": {
     "base_uri": "https://localhost:8080/",
     "height": 449
    },
    "executionInfo": {
     "elapsed": 2116,
     "status": "ok",
     "timestamp": 1601948166504,
     "user": {
      "displayName": "Byeongun Park",
      "photoUrl": "",
      "userId": "17153807017341157915"
     },
     "user_tz": -540
    },
    "id": "Vh1aCWhZNe2E",
    "outputId": "df0cdb42-bfaa-49a3-c1a1-a563f5eb9d36"
   },
   "outputs": [],
   "source": [
    "print(st_json2)"
   ]
  },
  {
   "cell_type": "code",
   "execution_count": null,
   "metadata": {
    "colab": {
     "base_uri": "https://localhost:8080/",
     "height": 449
    },
    "executionInfo": {
     "elapsed": 2110,
     "status": "ok",
     "timestamp": 1601948166504,
     "user": {
      "displayName": "Byeongun Park",
      "photoUrl": "",
      "userId": "17153807017341157915"
     },
     "user_tz": -540
    },
    "id": "SiRn9hARNpJB",
    "outputId": "5b363b5a-66a9-49c5-db5b-dc184635eed3"
   },
   "outputs": [],
   "source": [
    "st_json3 = json.dumps(student_data, indent=4,sort_keys=True)\n",
    "print(st_json3)"
   ]
  },
  {
   "cell_type": "code",
   "execution_count": null,
   "metadata": {
    "executionInfo": {
     "elapsed": 706,
     "status": "ok",
     "timestamp": 1605018003458,
     "user": {
      "displayName": "Byeongun Park",
      "photoUrl": "",
      "userId": "17153807017341157915"
     },
     "user_tz": -540
    },
    "id": "Nl-m58t0pXLK"
   },
   "outputs": [],
   "source": [
    "import requests"
   ]
  },
  {
   "cell_type": "code",
   "execution_count": null,
   "metadata": {
    "executionInfo": {
     "elapsed": 1943,
     "status": "ok",
     "timestamp": 1605018256062,
     "user": {
      "displayName": "Byeongun Park",
      "photoUrl": "",
      "userId": "17153807017341157915"
     },
     "user_tz": -540
    },
    "id": "jki9haiFqTuc"
   },
   "outputs": [],
   "source": [
    "url = \"http://www.kobis.or.kr/kobisopenapi/webservice/rest/boxoffice/searchDailyBoxOfficeList.json?key=5ae266b7e3e6ed01d14d89fea567e1c5&targetDt=20210530\"\n",
    "res = requests.get(url)\n",
    "text = res.text\n",
    "MD_json = json.loads(text) #MD = MOVIE DATA"
   ]
  },
  {
   "cell_type": "code",
   "execution_count": null,
   "metadata": {
    "colab": {
     "base_uri": "https://localhost:8080/"
    },
    "executionInfo": {
     "elapsed": 962,
     "status": "ok",
     "timestamp": 1605018259737,
     "user": {
      "displayName": "Byeongun Park",
      "photoUrl": "",
      "userId": "17153807017341157915"
     },
     "user_tz": -540
    },
    "id": "I2uw85f0r0Ak",
    "outputId": "7255a3ac-13b4-4326-db94-587ec89b6e06"
   },
   "outputs": [],
   "source": [
    "print(json.dumps(MD_json,indent=4,sort_keys=True))"
   ]
  },
  {
   "cell_type": "code",
   "execution_count": null,
   "metadata": {
    "colab": {
     "base_uri": "https://localhost:8080/"
    },
    "executionInfo": {
     "elapsed": 653,
     "status": "ok",
     "timestamp": 1605018265925,
     "user": {
      "displayName": "Byeongun Park",
      "photoUrl": "",
      "userId": "17153807017341157915"
     },
     "user_tz": -540
    },
    "id": "bj5b6Ssnobx7",
    "outputId": "89a80177-124a-4c91-d4f2-e15266c0c9b8"
   },
   "outputs": [],
   "source": [
    "print(MD_json.keys())\n",
    "\n",
    "print(MD_json['boxOfficeResult'].keys())"
   ]
  },
  {
   "cell_type": "code",
   "execution_count": null,
   "metadata": {
    "colab": {
     "base_uri": "https://localhost:8080/"
    },
    "executionInfo": {
     "elapsed": 718,
     "status": "ok",
     "timestamp": 1605018269472,
     "user": {
      "displayName": "Byeongun Park",
      "photoUrl": "",
      "userId": "17153807017341157915"
     },
     "user_tz": -540
    },
    "id": "kO7m4hAqrDxG",
    "outputId": "bd032658-ecc8-4bb5-eaaf-03a1ef27a54e"
   },
   "outputs": [],
   "source": [
    "for i in MD_json['boxOfficeResult']['dailyBoxOfficeList']:\n",
    "  print(i['rank'],i['rankOldAndNew'],i['movieCd'],i['movieNm'],i['salesAmt'])"
   ]
  },
  {
   "cell_type": "code",
   "execution_count": null,
   "metadata": {
    "executionInfo": {
     "elapsed": 657,
     "status": "ok",
     "timestamp": 1605018273472,
     "user": {
      "displayName": "Byeongun Park",
      "photoUrl": "",
      "userId": "17153807017341157915"
     },
     "user_tz": -540
    },
    "id": "A-_8O4Xxsz99"
   },
   "outputs": [],
   "source": [
    "import pandas as pd\n",
    "movie = [] \n",
    "for i in MD_json['boxOfficeResult']['dailyBoxOfficeList']:\n",
    "  movie.append([i['rank'],i['rankOldAndNew'],i['movieCd'],i['movieNm'],i['salesAmt']])\n",
    "data = pd.DataFrame(movie)"
   ]
  },
  {
   "cell_type": "code",
   "execution_count": null,
   "metadata": {
    "colab": {
     "base_uri": "https://localhost:8080/",
     "height": 359
    },
    "executionInfo": {
     "elapsed": 666,
     "status": "ok",
     "timestamp": 1605018276530,
     "user": {
      "displayName": "Byeongun Park",
      "photoUrl": "",
      "userId": "17153807017341157915"
     },
     "user_tz": -540
    },
    "id": "BpBwyQ58t4tT",
    "outputId": "d97f090c-ffb0-4b59-98eb-cec26d32a6ee"
   },
   "outputs": [],
   "source": [
    "data"
   ]
  },
  {
   "cell_type": "code",
   "execution_count": null,
   "metadata": {
    "id": "9N9-hcQyw-aZ"
   },
   "outputs": [],
   "source": [
    "url2 = \"https://8oi9s0nnth.apigw.ntruss.com/corona19-masks/v1/sales/json?page=1&perPage=500\"\n",
    "res = requests.get(url2)\n",
    "text = res.text\n",
    "corona19_mask = json.loads(text)"
   ]
  },
  {
   "cell_type": "code",
   "execution_count": null,
   "metadata": {
    "colab": {
     "base_uri": "https://localhost:8080/",
     "height": 143
    },
    "executionInfo": {
     "elapsed": 4155,
     "status": "ok",
     "timestamp": 1601948168584,
     "user": {
      "displayName": "Byeongun Park",
      "photoUrl": "",
      "userId": "17153807017341157915"
     },
     "user_tz": -540
    },
    "id": "gFB9RnEgxGxJ",
    "outputId": "9434d7df-3353-4b13-bb8e-7eb7944d3ffd"
   },
   "outputs": [],
   "source": [
    "print(json.dumps(corona19_mask,indent=4,sort_keys=True))"
   ]
  },
  {
   "cell_type": "code",
   "execution_count": null,
   "metadata": {
    "colab": {
     "base_uri": "https://localhost:8080/",
     "height": 35
    },
    "executionInfo": {
     "elapsed": 4152,
     "status": "ok",
     "timestamp": 1601948168585,
     "user": {
      "displayName": "Byeongun Park",
      "photoUrl": "",
      "userId": "17153807017341157915"
     },
     "user_tz": -540
    },
    "id": "XSV2l2YKtKOM",
    "outputId": "597bc9f5-3446-4a96-9158-0a51e0182929"
   },
   "outputs": [],
   "source": [
    "print(corona19_mask.keys())"
   ]
  },
  {
   "cell_type": "code",
   "execution_count": null,
   "metadata": {
    "colab": {
     "base_uri": "https://localhost:8080/",
     "height": 226
    },
    "executionInfo": {
     "elapsed": 4147,
     "status": "error",
     "timestamp": 1601948168585,
     "user": {
      "displayName": "Byeongun Park",
      "photoUrl": "",
      "userId": "17153807017341157915"
     },
     "user_tz": -540
    },
    "id": "7QahpIQ2xauP",
    "outputId": "0607dd86-d758-438c-caad-b103cbff1e04"
   },
   "outputs": [],
   "source": [
    "corona19_mask_list = []\n",
    "for i in corona19_mask['sales']:\n",
    "  corona19_mask_list.append([i['created_at'],i['code'],i['remain_stat']])\n",
    "corona19_mask_dataframe = pd.DataFrame(corona19_mask_list)"
   ]
  },
  {
   "cell_type": "code",
   "execution_count": null,
   "metadata": {
    "id": "Bxnv7PCxxcSC"
   },
   "outputs": [],
   "source": [
    "corona19_mask_dataframe.head(10)"
   ]
  }
 ],
 "metadata": {
  "colab": {
   "collapsed_sections": [],
   "name": "pytho_api_json.ipynb",
   "provenance": [
    {
     "file_id": "1VSZZLhs3MASKf_ovORBHWcUGKv6Y31os",
     "timestamp": 1591173929225
    }
   ]
  },
  "kernelspec": {
   "display_name": "Python 3",
   "language": "python",
   "name": "python3"
  },
  "language_info": {
   "codemirror_mode": {
    "name": "ipython",
    "version": 3
   },
   "file_extension": ".py",
   "mimetype": "text/x-python",
   "name": "python",
   "nbconvert_exporter": "python",
   "pygments_lexer": "ipython3",
   "version": "3.6.13"
  }
 },
 "nbformat": 4,
 "nbformat_minor": 4
}
